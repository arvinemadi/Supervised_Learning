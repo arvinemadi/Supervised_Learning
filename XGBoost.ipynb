{
 "cells": [
  {
   "cell_type": "markdown",
   "id": "94324868",
   "metadata": {},
   "source": [
    "# Example of using XGBoost\n",
    "\n",
    "[XGBoost](https://en.wikipedia.org/wiki/XGBoost) is a powerful tree based algorithm that can be used for classification and regression and it can sometimes do better than random forrest. Similar to random forrest, we can get ranking of features importance. \n",
    "\n",
    "This [video](https://www.youtube.com/watch?v=OtD8wVaFm6E) gives a visual explanation of how the algorithm works but it is at a very slow pace.\n",
    "\n",
    "This is a very simple example to show these concepts on scikit-learn datasets."
   ]
  },
  {
   "cell_type": "code",
   "execution_count": 1,
   "id": "d168a16a",
   "metadata": {},
   "outputs": [],
   "source": [
    "import numpy as np\n",
    "import pandas as pd\n",
    "from sklearn import datasets\n",
    "from sklearn.model_selection import train_test_split\n",
    "import xgboost as xgb\n",
    "from sklearn.metrics import accuracy_score, r2_score"
   ]
  },
  {
   "cell_type": "markdown",
   "id": "b11c5c18",
   "metadata": {},
   "source": [
    "## Loading wine dataset"
   ]
  },
  {
   "cell_type": "code",
   "execution_count": 2,
   "id": "a2b63673",
   "metadata": {},
   "outputs": [],
   "source": [
    "wine = datasets.load_wine()\n",
    "x = pd.DataFrame(wine['data'], columns = wine['feature_names'])\n",
    "y = wine['target']"
   ]
  },
  {
   "cell_type": "markdown",
   "id": "19eed60b",
   "metadata": {},
   "source": [
    ".. and split into train and test:"
   ]
  },
  {
   "cell_type": "code",
   "execution_count": 3,
   "id": "95088958",
   "metadata": {},
   "outputs": [],
   "source": [
    "x_train, x_test, y_train, y_test = train_test_split(x, y, test_size = 0.2)"
   ]
  },
  {
   "cell_type": "markdown",
   "id": "ad7de64f",
   "metadata": {},
   "source": [
    "## Data preprocessing\n",
    "\n",
    "To use XGBoost, the dataframe needs to be transformed into XGBoosts data structure:"
   ]
  },
  {
   "cell_type": "code",
   "execution_count": 4,
   "id": "93fc90e7",
   "metadata": {},
   "outputs": [],
   "source": [
    "Data_train = xgb.DMatrix(x_train, y_train)\n",
    "Data_test  = xgb.DMatrix(x_test, y_test)"
   ]
  },
  {
   "cell_type": "markdown",
   "id": "8c360ddd",
   "metadata": {},
   "source": [
    "## Setting up the XGBoost model\n",
    "\n",
    "Need to setup the hyper-parameters for the model:\n"
   ]
  },
  {
   "cell_type": "code",
   "execution_count": 5,
   "id": "d67e2a6a",
   "metadata": {},
   "outputs": [],
   "source": [
    "parameters = {\"max_depth\" : 3, \"eta\" : 0.1, \"objective\" : \"multi:softmax\", \"num_class\" : 3}\n",
    "\n",
    "iterations = 100\n",
    "\n",
    "model = xgb.train(parameters, Data_train, iterations)"
   ]
  },
  {
   "cell_type": "markdown",
   "id": "8f966747",
   "metadata": {},
   "source": [
    "## Evaluation on test dataset"
   ]
  },
  {
   "cell_type": "code",
   "execution_count": 6,
   "id": "b7eff375",
   "metadata": {},
   "outputs": [
    {
     "name": "stdout",
     "output_type": "stream",
     "text": [
      "Accuracy of the XGBoost model on the test dataset:1.0\n"
     ]
    }
   ],
   "source": [
    "preds = model.predict(Data_test)\n",
    "\n",
    "acc = accuracy_score(y_test, preds)\n",
    "\n",
    "print(\"Accuracy of the XGBoost model on the test dataset:\" + str(acc))"
   ]
  },
  {
   "cell_type": "markdown",
   "id": "b5758280",
   "metadata": {},
   "source": [
    "## Feature importance\n",
    "\n",
    "Not done here, but to identify the features that we need to keep if we wanted to select the features, we could add a random feature and remove any feature that scored lower than the random one."
   ]
  },
  {
   "cell_type": "code",
   "execution_count": 7,
   "id": "33ddb894",
   "metadata": {},
   "outputs": [
    {
     "data": {
      "image/png": "[encoded data removed]",
      "text/plain": [
       "<Figure size 432x288 with 1 Axes>"
      ]
     },
     "metadata": {
      "needs_background": "light"
     },
     "output_type": "display_data"
    }
   ],
   "source": [
    "xgb.plot_importance(model);"
   ]
  },
  {
   "cell_type": "markdown",
   "id": "d8a48930",
   "metadata": {},
   "source": [
    "## Loading diabetes dataset\n",
    "\n",
    "Almost repeating the same for a regression example:"
   ]
  },
  {
   "cell_type": "code",
   "execution_count": 8,
   "id": "232c508c",
   "metadata": {},
   "outputs": [],
   "source": [
    "diabetes = datasets.load_diabetes()\n",
    "x = pd.DataFrame(diabetes['data'], columns = diabetes['feature_names'])\n",
    "y = diabetes['target']"
   ]
  },
  {
   "cell_type": "markdown",
   "id": "e9534eac",
   "metadata": {},
   "source": [
    ". and split into train and test:"
   ]
  },
  {
   "cell_type": "code",
   "execution_count": 9,
   "id": "212b58a8",
   "metadata": {},
   "outputs": [],
   "source": [
    "x_train, x_test, y_train, y_test = train_test_split(x, y, test_size = 0.2)"
   ]
  },
  {
   "cell_type": "markdown",
   "id": "bff8d813",
   "metadata": {},
   "source": [
    "... similar pre-processing:"
   ]
  },
  {
   "cell_type": "code",
   "execution_count": 10,
   "id": "383a6fb7",
   "metadata": {},
   "outputs": [],
   "source": [
    "Data_train = xgb.DMatrix(x_train, y_train)\n",
    "Data_test  = xgb.DMatrix(x_test, y_test)"
   ]
  },
  {
   "cell_type": "markdown",
   "id": "41951b17",
   "metadata": {},
   "source": [
    "## Setting up the model"
   ]
  },
  {
   "cell_type": "code",
   "execution_count": 11,
   "id": "05a3fc34",
   "metadata": {},
   "outputs": [],
   "source": [
    "parameters = {\"max_depth\" : 3, \"eta\" : 0.05, \"gamma\": 0.1, \"objective\" : \"reg:squarederror\"}\n",
    "\n",
    "iterations = 100\n",
    "\n",
    "model_r = xgb.train(parameters, Data_train, iterations)"
   ]
  },
  {
   "cell_type": "markdown",
   "id": "7e77dcd0",
   "metadata": {},
   "source": [
    "## Evaluation on test dataset"
   ]
  },
  {
   "cell_type": "code",
   "execution_count": 12,
   "id": "892f38fd",
   "metadata": {},
   "outputs": [
    {
     "name": "stdout",
     "output_type": "stream",
     "text": [
      "R2 score of the regression on the test dataset:0.5384895188159831\n"
     ]
    }
   ],
   "source": [
    "preds = model_r.predict(Data_test)\n",
    "\n",
    "r2 = r2_score(y_test, preds)\n",
    "\n",
    "print(\"R2 score of the regression on the test dataset:\" + str(r2))"
   ]
  },
  {
   "cell_type": "markdown",
   "id": "88446a26",
   "metadata": {},
   "source": [
    "## Feature importance"
   ]
  },
  {
   "cell_type": "code",
   "execution_count": 13,
   "id": "07d6576f",
   "metadata": {},
   "outputs": [
    {
     "data": {
      "image/png": "[encoded data removed]",
      "text/plain": [
       "<Figure size 432x288 with 1 Axes>"
      ]
     },
     "metadata": {
      "needs_background": "light"
     },
     "output_type": "display_data"
    }
   ],
   "source": [
    "xgb.plot_importance(model_r);"
   ]
  },
  {
   "cell_type": "code",
   "execution_count": null,
   "id": "cdb5c9ad",
   "metadata": {},
   "outputs": [],
   "source": []
  }
 ],
 "metadata": {
  "kernelspec": {
   "display_name": "kaggle",
   "language": "python",
   "name": "kaggle"
  },
  "language_info": {
   "codemirror_mode": {
    "name": "ipython",
    "version": 3
   },
   "file_extension": ".py",
   "mimetype": "text/x-python",
   "name": "python",
   "nbconvert_exporter": "python",
   "pygments_lexer": "ipython3",
   "version": "3.10.5"
  }
 },
 "nbformat": 4,
 "nbformat_minor": 5
}
